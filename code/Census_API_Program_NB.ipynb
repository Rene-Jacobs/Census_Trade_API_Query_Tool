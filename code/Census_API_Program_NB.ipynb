{
 "cells": [
  {
   "cell_type": "markdown",
   "metadata": {},
   "source": [
    "## US Census International Trade API Retrieval and Processing Program\n",
    "\n",
    "This program is designed to interact with a Census API, allowing for the retrieval of specific datasets based on user input. It's structured to guide users through a series of questions to pinpoint the exact data they need, including determining the correct API endpoint and the parameters that define their query. \n",
    "\n",
    "### Features:\n",
    "\n",
    "- **Dynamic Endpoint Selection:** The program prompts the user with questions to accurately determine the most relevant API endpoint for their data needs.\n",
    "- **Data Cleaning Option:** Before saving the data, users have the choice to perform data cleaning operations, allowing for the removal of irrelevant or corrupt data, ensuring the dataset's quality.\n",
    "- **CSV Export:** The final dataset can be saved directly to a CSV file. Users can choose between saving the raw data directly from the API or the cleaned data after processing.\n",
    "\n",
    "### Workflow:\n",
    "\n",
    "1. **User Interaction:** The program starts by asking the user a series of questions. These questions are designed to gather information about the type of data the user is interested in. This step is crucial for determining the appropriate API endpoint and the necessary parameters for the query.\n",
    "\n",
    "2. **API Call:** Based on the user's input, the program constructs a query and makes a call to the specified Census API endpoint. This step involves fetching the data from the Census database that matches the user's specified criteria.\n",
    "\n",
    "3. **Data Processing:** Once the data is retrieved, the user is presented with the option to clean the data. This step involves filtering out unnecessary or irrelevant information and correcting any discrepancies, ensuring the dataset's accuracy and relevance.\n",
    "\n",
    "4. **Export to CSV:** The final step involves exporting the processed data to a CSV file. The user can choose to save the raw data as it was retrieved from the API or the cleaned data. The CSV file is then stored in a specified location, making it accessible for further analysis or reporting.\n",
    "\n",
    "### Usage:\n",
    "\n",
    "- Ensure you have the necessary API key and permissions to access the Census data.\n",
    "- Run the program and follow the on-screen prompts to input your data requirements.\n",
    "- Choose between cleaning the data or saving the raw data directly.\n",
    "\n",
    "\n",
    "##### Additional information regarding the US Census API at https://www.census.gov/data/developers/data-sets/international-trade.html\n",
    "\n",
    "AND\n",
    "\n",
    "##### Guide to International Trade Statistics https://www.census.gov/foreign-trade/guide/index.html"
   ]
  },
  {
   "cell_type": "markdown",
   "metadata": {},
   "source": [
    "## Note you may need to have an API key.\n",
    "\n",
    "#### Request key at https://api.census.gov/data/key_signup.html"
   ]
  },
  {
   "cell_type": "code",
   "execution_count": 1,
   "metadata": {},
   "outputs": [],
   "source": [
    "# import Libraries\n",
    "import numpy as np\n",
    "import pandas as pd\n",
    "import sys\n",
    "import requests as req\n",
    "import os\n",
    "import trade_api_functions as taf     "
   ]
  },
  {
   "cell_type": "markdown",
   "metadata": {},
   "source": [
    "## Request and store API Key"
   ]
  },
  {
   "cell_type": "code",
   "execution_count": 2,
   "metadata": {},
   "outputs": [
    {
     "name": "stdout",
     "output_type": "stream",
     "text": [
      "Welcome to the US Census International Trade API program! This tool allows you to access and save international trade data. \n",
      "\n",
      "To enhance your experience and increase your daily API call limit, an API Key is recommended. \n",
      "\n",
      "You can obtain a 40-character API Key by registering at https://api.census.gov/data/key_signup.html. \n",
      "\n",
      "Continuing without an API key. Note that you may be limited to 500 API calls per day.\n"
     ]
    }
   ],
   "source": [
    "# START OF PROGRAM\n",
    "print(\"Welcome to the US Census International Trade API program! This tool allows you to access and save international trade data.\", \"\\n\")\n",
    "\n",
    "# Initialize the API key\n",
    "key = taf.get_key()"
   ]
  },
  {
   "cell_type": "markdown",
   "metadata": {},
   "source": [
    "## Request and store trade type and endpoint to Determine base URL"
   ]
  },
  {
   "cell_type": "code",
   "execution_count": 3,
   "metadata": {},
   "outputs": [],
   "source": [
    "# Ask the user for the trade data type they are interested in.\n",
    "imp_exp = taf.get_imp_exp()\n",
    "\n",
    "# Ask the user how they want to pull the data.\n",
    "endpoint = taf.get_endpoint()\n",
    "    \n",
    "trade_type = taf.determine_trade_type(imp_exp, endpoint)\n",
    "\n",
    "# Determine the base URL for the API requests\n",
    "base_url = taf.determine_base_url(imp_exp, endpoint)\n",
    "\n",
    "# Determine the base parameters for the API requests\n",
    "parameters = taf.determine_base_params(trade_type)\n",
    "\n",
    "# Determine if there is a key and add it to the parameters\n",
    "if key:\n",
    "    parameters['key'] = key"
   ]
  },
  {
   "cell_type": "markdown",
   "metadata": {},
   "source": [
    "### HS, HTS, and Schedule B Codes Explained\n",
    "<img src=\"../resources/codes.png\" alt=\"HS, HTS, and Schedule B Codes Explained\" width=\"800\"/>\n"
   ]
  },
  {
   "cell_type": "markdown",
   "metadata": {},
   "source": [
    "## Additional User Specified Parameters"
   ]
  },
  {
   "cell_type": "code",
   "execution_count": 4,
   "metadata": {},
   "outputs": [
    {
     "name": "stdout",
     "output_type": "stream",
     "text": [
      "BALTIMORE, MD nan\n",
      "BALTIMORE, MD 1303\n",
      "Data for the desired port(s) will be retrieved using the code(s):['1303']\n"
     ]
    }
   ],
   "source": [
    "# get additional parameters from the user\n",
    "code_list, cty_codes, dist_codes, port_codes, state, commodity = taf.get_user_defined_parameters(endpoint, trade_type, imp_exp)"
   ]
  },
  {
   "cell_type": "markdown",
   "metadata": {},
   "source": [
    "## Determine time frame"
   ]
  },
  {
   "cell_type": "code",
   "execution_count": 5,
   "metadata": {},
   "outputs": [
    {
     "name": "stdout",
     "output_type": "stream",
     "text": [
      "What time period would you like to pull data for?\n"
     ]
    }
   ],
   "source": [
    "print(\"What time period would you like to pull data for?\")\n",
    "start_year = int(taf.valid_year_input(\"Enter the 4 digit year you would like to start from (e.g. 2010): \"))\n",
    "end_year = int(taf.valid_year_input(\"Enter the 4 digit year you would like to end at (e.g. 2020): \")) + 1\n",
    "\n",
    "# Ensure start_year is not greater than end_year\n",
    "while int(start_year) > int(end_year):\n",
    "    print(\"The start year cannot be greater than the end year. Please enter the years again.\")\n",
    "    start_year = taf.valid_year_input(\"Enter the 4 digit year you would like to start from (e.g. 2010): \")\n",
    "    end_year = taf.valid_year_input(\"Enter the 4 digit year you would like to end at (e.g. 2020): \")"
   ]
  },
  {
   "cell_type": "markdown",
   "metadata": {},
   "source": [
    "## Make the call"
   ]
  },
  {
   "cell_type": "markdown",
   "metadata": {},
   "source": [
    "### Types of API call errors.\n",
    "<img src=\"resources/api_error_codes.png\" alt=\"HS, HTS, and Schedule B Codes Explained\" width=\"800\"/>"
   ]
  },
  {
   "cell_type": "markdown",
   "metadata": {},
   "source": [
    "### \"Some data users may experience performance issues while querying. Using a single query to pull data on all countries and or all commodities will result in error. In general, the API can handle a large number of smaller data calls better than it can handle one large data call. We suggest you limit the size of the query by breaking up the call and combining the output. One way to do this is by using a wild card “*”.\"\n",
    "_International Trade Data API User Guide_"
   ]
  },
  {
   "cell_type": "code",
   "execution_count": 6,
   "metadata": {},
   "outputs": [
    {
     "name": "stdout",
     "output_type": "stream",
     "text": [
      "Data was successfully retrieved!\n"
     ]
    }
   ],
   "source": [
    "# Make the API call to fetch the data\n",
    "data = taf.make_call(base_url, parameters, start_year, end_year, imp_exp, code_list, cty_codes, dist_codes, port_codes, state) \n",
    "\n",
    "# Check if the data is empty\n",
    "if data is None:\n",
    "    print(\"No data was found for the specified parameters. Please review the error message above and try again.\")\n",
    "else:\n",
    "    print(\"Data was successfully retrieved!\")"
   ]
  },
  {
   "cell_type": "markdown",
   "metadata": {},
   "source": [
    "## Clean and save"
   ]
  },
  {
   "cell_type": "code",
   "execution_count": 7,
   "metadata": {},
   "outputs": [
    {
     "name": "stdout",
     "output_type": "stream",
     "text": [
      "Data saved to saved_data/_imp_port.csv\n"
     ]
    }
   ],
   "source": [
    "# create a directory to save the data\n",
    "save_dir = taf.save_directory()\n",
    "\n",
    "# Ask the user if they would like to clean the data before saving it\n",
    "cleaned = taf.prompt_yes_no(\"Would you like to clean the data before saving to a csv file? (Yes/No): \")\n",
    "if cleaned:\n",
    "    cleaned_data = taf.clean_data(data, trade_type)\n",
    "    taf.save_data(cleaned_data, trade_type, save_dir, commodity, cleaned=True)\n",
    "else:\n",
    "    print(\"Data will be saved as is.\")\n",
    "    taf.save_data(data, trade_type, save_dir, commodity, cleaned=False)\n"
   ]
  }
 ],
 "metadata": {
  "kernelspec": {
   "display_name": "trade_api",
   "language": "python",
   "name": "python3"
  },
  "language_info": {
   "codemirror_mode": {
    "name": "ipython",
    "version": 3
   },
   "file_extension": ".py",
   "mimetype": "text/x-python",
   "name": "python",
   "nbconvert_exporter": "python",
   "pygments_lexer": "ipython3",
   "version": "3.12.3"
  }
 },
 "nbformat": 4,
 "nbformat_minor": 2
}
